{
  "nbformat": 4,
  "nbformat_minor": 0,
  "metadata": {
    "colab": {
      "provenance": [],
      "authorship_tag": "ABX9TyNFKrMwg6gG60f1Cv+jsU7s",
      "include_colab_link": true
    },
    "kernelspec": {
      "name": "python3",
      "display_name": "Python 3"
    },
    "language_info": {
      "name": "python"
    }
  },
  "cells": [
    {
      "cell_type": "markdown",
      "metadata": {
        "id": "view-in-github",
        "colab_type": "text"
      },
      "source": [
        "<a href=\"https://colab.research.google.com/github/volosciucedmond/Proiect-LAB-MEDII-VIZUALE-2022/blob/main/Tem%C4%83_compara%C8%9Bie.ipynb\" target=\"_parent\"><img src=\"https://colab.research.google.com/assets/colab-badge.svg\" alt=\"Open In Colab\"/></a>"
      ]
    },
    {
      "cell_type": "code",
      "source": [
        "%%html\n",
        "<p style = \"font-size:300%; text-align:center; color:#336600\"> <b> Traffic Flow - Linear Regression and Random Forest</b></p>"
      ],
      "metadata": {
        "colab": {
          "base_uri": "https://localhost:8080/",
          "height": 81
        },
        "id": "SpFnZtaakQF6",
        "outputId": "3690f895-fae2-43f6-e7ff-45bee7fe596a"
      },
      "execution_count": null,
      "outputs": [
        {
          "output_type": "display_data",
          "data": {
            "text/plain": [
              "<IPython.core.display.HTML object>"
            ],
            "text/html": [
              "<p style = \"font-size:300%; text-align:center; color:#336600\"> <b> Traffic Flow - Linear Regression and Random Forest</b></p>\n"
            ]
          },
          "metadata": {}
        }
      ]
    },
    {
      "cell_type": "markdown",
      "source": [
        "Problema de flux de trafic poate fi abordată folosind algoritmi de regresie liniară și random forest, bazându-se pe un set de date care conține următoarele câmpuri: momentul zilei, ziua săptămânii, vremea, tipul drumului (autostradă, stradă din oraș) și nivelul de flux de trafic (redus, mediu, mare). Scopul este de a construi un model care să poată prezice nivelul de flux de trafic într-un anumit moment al zilei, într-o anumită zi a săptămânii, în funcție de condițiile meteorologice și de tipul drumului. Pentru a rezolva această problemă, se vor utiliza algoritmi de regresie liniară și random forest pe baza unui set de date care conține informații despre momentul zilei, ziua săptămânii, vremea, tipul drumului și nivelul de flux de trafic.\n",
        "\n"
      ],
      "metadata": {
        "id": "0LG1RnndjuPK"
      }
    },
    {
      "cell_type": "markdown",
      "source": [
        "Data setul:\n",
        "\n",
        "\n",
        "*   time_of_day: momentul zilei\n",
        "*   day_of_week: ziua saptamanii\n",
        "*   weather: vremea\n",
        "*   road_type: tipul drumului\n",
        "*   traffic_flow: nivelul fluxului de trafic"
      ],
      "metadata": {
        "id": "zoZ1qLdWoVSW"
      }
    },
    {
      "cell_type": "markdown",
      "source": [
        "Importăm librăriile necesare"
      ],
      "metadata": {
        "id": "FCPpzywp3jJd"
      }
    },
    {
      "cell_type": "code",
      "source": [
        "import numpy as np # algebra liniară\n",
        "from sklearn.model_selection import train_test_split # imparte un set de date in doua subseturi: unul pentru antrenare si unul pentru testare\n",
        "from sklearn.linear_model import LinearRegression # regresie liniara\n",
        "import pandas as pd # procesarea de date\n",
        "import seaborn as sns\n",
        "from sklearn.ensemble import RandomForestClassifier\n",
        "from sklearn import metrics\n",
        "from sklearn import preprocessing\n",
        "from google.colab import files # pentru încărcare sau descărcare de fișiere din calculator în Google Colab"
      ],
      "metadata": {
        "id": "_gU5FHAg0H7w"
      },
      "execution_count": null,
      "outputs": []
    },
    {
      "cell_type": "markdown",
      "source": [
        "Facem upload la setul de date"
      ],
      "metadata": {
        "id": "0wksktjP3ll0"
      }
    },
    {
      "cell_type": "code",
      "source": [
        "uploaded = files.upload()"
      ],
      "metadata": {
        "colab": {
          "base_uri": "https://localhost:8080/",
          "height": 74
        },
        "id": "CCTOWM4Fx9jV",
        "outputId": "719fcc86-6806-4505-f9d9-593e2d91f46d"
      },
      "execution_count": null,
      "outputs": [
        {
          "output_type": "display_data",
          "data": {
            "text/plain": [
              "<IPython.core.display.HTML object>"
            ],
            "text/html": [
              "\n",
              "     <input type=\"file\" id=\"files-516a6471-9fe9-44ea-874e-b502635b0dcc\" name=\"files[]\" multiple disabled\n",
              "        style=\"border:none\" />\n",
              "     <output id=\"result-516a6471-9fe9-44ea-874e-b502635b0dcc\">\n",
              "      Upload widget is only available when the cell has been executed in the\n",
              "      current browser session. Please rerun this cell to enable.\n",
              "      </output>\n",
              "      <script>// Copyright 2017 Google LLC\n",
              "//\n",
              "// Licensed under the Apache License, Version 2.0 (the \"License\");\n",
              "// you may not use this file except in compliance with the License.\n",
              "// You may obtain a copy of the License at\n",
              "//\n",
              "//      http://www.apache.org/licenses/LICENSE-2.0\n",
              "//\n",
              "// Unless required by applicable law or agreed to in writing, software\n",
              "// distributed under the License is distributed on an \"AS IS\" BASIS,\n",
              "// WITHOUT WARRANTIES OR CONDITIONS OF ANY KIND, either express or implied.\n",
              "// See the License for the specific language governing permissions and\n",
              "// limitations under the License.\n",
              "\n",
              "/**\n",
              " * @fileoverview Helpers for google.colab Python module.\n",
              " */\n",
              "(function(scope) {\n",
              "function span(text, styleAttributes = {}) {\n",
              "  const element = document.createElement('span');\n",
              "  element.textContent = text;\n",
              "  for (const key of Object.keys(styleAttributes)) {\n",
              "    element.style[key] = styleAttributes[key];\n",
              "  }\n",
              "  return element;\n",
              "}\n",
              "\n",
              "// Max number of bytes which will be uploaded at a time.\n",
              "const MAX_PAYLOAD_SIZE = 100 * 1024;\n",
              "\n",
              "function _uploadFiles(inputId, outputId) {\n",
              "  const steps = uploadFilesStep(inputId, outputId);\n",
              "  const outputElement = document.getElementById(outputId);\n",
              "  // Cache steps on the outputElement to make it available for the next call\n",
              "  // to uploadFilesContinue from Python.\n",
              "  outputElement.steps = steps;\n",
              "\n",
              "  return _uploadFilesContinue(outputId);\n",
              "}\n",
              "\n",
              "// This is roughly an async generator (not supported in the browser yet),\n",
              "// where there are multiple asynchronous steps and the Python side is going\n",
              "// to poll for completion of each step.\n",
              "// This uses a Promise to block the python side on completion of each step,\n",
              "// then passes the result of the previous step as the input to the next step.\n",
              "function _uploadFilesContinue(outputId) {\n",
              "  const outputElement = document.getElementById(outputId);\n",
              "  const steps = outputElement.steps;\n",
              "\n",
              "  const next = steps.next(outputElement.lastPromiseValue);\n",
              "  return Promise.resolve(next.value.promise).then((value) => {\n",
              "    // Cache the last promise value to make it available to the next\n",
              "    // step of the generator.\n",
              "    outputElement.lastPromiseValue = value;\n",
              "    return next.value.response;\n",
              "  });\n",
              "}\n",
              "\n",
              "/**\n",
              " * Generator function which is called between each async step of the upload\n",
              " * process.\n",
              " * @param {string} inputId Element ID of the input file picker element.\n",
              " * @param {string} outputId Element ID of the output display.\n",
              " * @return {!Iterable<!Object>} Iterable of next steps.\n",
              " */\n",
              "function* uploadFilesStep(inputId, outputId) {\n",
              "  const inputElement = document.getElementById(inputId);\n",
              "  inputElement.disabled = false;\n",
              "\n",
              "  const outputElement = document.getElementById(outputId);\n",
              "  outputElement.innerHTML = '';\n",
              "\n",
              "  const pickedPromise = new Promise((resolve) => {\n",
              "    inputElement.addEventListener('change', (e) => {\n",
              "      resolve(e.target.files);\n",
              "    });\n",
              "  });\n",
              "\n",
              "  const cancel = document.createElement('button');\n",
              "  inputElement.parentElement.appendChild(cancel);\n",
              "  cancel.textContent = 'Cancel upload';\n",
              "  const cancelPromise = new Promise((resolve) => {\n",
              "    cancel.onclick = () => {\n",
              "      resolve(null);\n",
              "    };\n",
              "  });\n",
              "\n",
              "  // Wait for the user to pick the files.\n",
              "  const files = yield {\n",
              "    promise: Promise.race([pickedPromise, cancelPromise]),\n",
              "    response: {\n",
              "      action: 'starting',\n",
              "    }\n",
              "  };\n",
              "\n",
              "  cancel.remove();\n",
              "\n",
              "  // Disable the input element since further picks are not allowed.\n",
              "  inputElement.disabled = true;\n",
              "\n",
              "  if (!files) {\n",
              "    return {\n",
              "      response: {\n",
              "        action: 'complete',\n",
              "      }\n",
              "    };\n",
              "  }\n",
              "\n",
              "  for (const file of files) {\n",
              "    const li = document.createElement('li');\n",
              "    li.append(span(file.name, {fontWeight: 'bold'}));\n",
              "    li.append(span(\n",
              "        `(${file.type || 'n/a'}) - ${file.size} bytes, ` +\n",
              "        `last modified: ${\n",
              "            file.lastModifiedDate ? file.lastModifiedDate.toLocaleDateString() :\n",
              "                                    'n/a'} - `));\n",
              "    const percent = span('0% done');\n",
              "    li.appendChild(percent);\n",
              "\n",
              "    outputElement.appendChild(li);\n",
              "\n",
              "    const fileDataPromise = new Promise((resolve) => {\n",
              "      const reader = new FileReader();\n",
              "      reader.onload = (e) => {\n",
              "        resolve(e.target.result);\n",
              "      };\n",
              "      reader.readAsArrayBuffer(file);\n",
              "    });\n",
              "    // Wait for the data to be ready.\n",
              "    let fileData = yield {\n",
              "      promise: fileDataPromise,\n",
              "      response: {\n",
              "        action: 'continue',\n",
              "      }\n",
              "    };\n",
              "\n",
              "    // Use a chunked sending to avoid message size limits. See b/62115660.\n",
              "    let position = 0;\n",
              "    do {\n",
              "      const length = Math.min(fileData.byteLength - position, MAX_PAYLOAD_SIZE);\n",
              "      const chunk = new Uint8Array(fileData, position, length);\n",
              "      position += length;\n",
              "\n",
              "      const base64 = btoa(String.fromCharCode.apply(null, chunk));\n",
              "      yield {\n",
              "        response: {\n",
              "          action: 'append',\n",
              "          file: file.name,\n",
              "          data: base64,\n",
              "        },\n",
              "      };\n",
              "\n",
              "      let percentDone = fileData.byteLength === 0 ?\n",
              "          100 :\n",
              "          Math.round((position / fileData.byteLength) * 100);\n",
              "      percent.textContent = `${percentDone}% done`;\n",
              "\n",
              "    } while (position < fileData.byteLength);\n",
              "  }\n",
              "\n",
              "  // All done.\n",
              "  yield {\n",
              "    response: {\n",
              "      action: 'complete',\n",
              "    }\n",
              "  };\n",
              "}\n",
              "\n",
              "scope.google = scope.google || {};\n",
              "scope.google.colab = scope.google.colab || {};\n",
              "scope.google.colab._files = {\n",
              "  _uploadFiles,\n",
              "  _uploadFilesContinue,\n",
              "};\n",
              "})(self);\n",
              "</script> "
            ]
          },
          "metadata": {}
        },
        {
          "output_type": "stream",
          "name": "stdout",
          "text": [
            "Saving tf2.csv to tf2.csv\n"
          ]
        }
      ]
    },
    {
      "cell_type": "markdown",
      "source": [
        "Citim si afișăm informații despre setul de date"
      ],
      "metadata": {
        "id": "FaSlvH4N3sSH"
      }
    },
    {
      "cell_type": "code",
      "source": [
        "import io # oferă instrumente pentru manipularea intrării și ieșrii de date în și din aplciație\n",
        "df = pd.read_csv(io.BytesIO(uploaded['tf2.csv'])) # citirea setului de date\n",
        "# df = pd.read_csv(\"drive/My Drive/traffic.csv\") # uplaod de pe Google Drive\n",
        "df.info() # oferă informații despre setul de date\n",
        "df.describe() # descrierea setului de date\n",
        "df.head()\n",
        "\n"
      ],
      "metadata": {
        "id": "wkCl-P4Wx_4k",
        "colab": {
          "base_uri": "https://localhost:8080/",
          "height": 414
        },
        "outputId": "63d832d3-6920-41d6-a7b3-4b3d23dce0a0"
      },
      "execution_count": null,
      "outputs": [
        {
          "output_type": "stream",
          "name": "stdout",
          "text": [
            "<class 'pandas.core.frame.DataFrame'>\n",
            "RangeIndex: 60 entries, 0 to 59\n",
            "Data columns (total 5 columns):\n",
            " #   Column        Non-Null Count  Dtype \n",
            "---  ------        --------------  ----- \n",
            " 0   time_of_day   60 non-null     object\n",
            " 1   day_of_week   60 non-null     object\n",
            " 2   weather       60 non-null     object\n",
            " 3   road_type     60 non-null     object\n",
            " 4   traffic_flow  60 non-null     object\n",
            "dtypes: object(5)\n",
            "memory usage: 2.5+ KB\n"
          ]
        },
        {
          "output_type": "execute_result",
          "data": {
            "text/plain": [
              "  time_of_day day_of_week        weather    road_type traffic_flow\n",
              "0     Morning      Monday          Clear      Highway        Heavy\n",
              "1   Afternoon     Tuesday  Partly cloudy  City street     Moderate\n",
              "2     Evening   Wednesday          Rainy      Highway        Light\n",
              "3       Night    Thursday          Snowy  City street        Heavy\n",
              "4     Morning      Friday          Clear      Highway     Moderate"
            ],
            "text/html": [
              "\n",
              "  <div id=\"df-b392f6ee-26ca-4206-a11e-d91950166cd2\">\n",
              "    <div class=\"colab-df-container\">\n",
              "      <div>\n",
              "<style scoped>\n",
              "    .dataframe tbody tr th:only-of-type {\n",
              "        vertical-align: middle;\n",
              "    }\n",
              "\n",
              "    .dataframe tbody tr th {\n",
              "        vertical-align: top;\n",
              "    }\n",
              "\n",
              "    .dataframe thead th {\n",
              "        text-align: right;\n",
              "    }\n",
              "</style>\n",
              "<table border=\"1\" class=\"dataframe\">\n",
              "  <thead>\n",
              "    <tr style=\"text-align: right;\">\n",
              "      <th></th>\n",
              "      <th>time_of_day</th>\n",
              "      <th>day_of_week</th>\n",
              "      <th>weather</th>\n",
              "      <th>road_type</th>\n",
              "      <th>traffic_flow</th>\n",
              "    </tr>\n",
              "  </thead>\n",
              "  <tbody>\n",
              "    <tr>\n",
              "      <th>0</th>\n",
              "      <td>Morning</td>\n",
              "      <td>Monday</td>\n",
              "      <td>Clear</td>\n",
              "      <td>Highway</td>\n",
              "      <td>Heavy</td>\n",
              "    </tr>\n",
              "    <tr>\n",
              "      <th>1</th>\n",
              "      <td>Afternoon</td>\n",
              "      <td>Tuesday</td>\n",
              "      <td>Partly cloudy</td>\n",
              "      <td>City street</td>\n",
              "      <td>Moderate</td>\n",
              "    </tr>\n",
              "    <tr>\n",
              "      <th>2</th>\n",
              "      <td>Evening</td>\n",
              "      <td>Wednesday</td>\n",
              "      <td>Rainy</td>\n",
              "      <td>Highway</td>\n",
              "      <td>Light</td>\n",
              "    </tr>\n",
              "    <tr>\n",
              "      <th>3</th>\n",
              "      <td>Night</td>\n",
              "      <td>Thursday</td>\n",
              "      <td>Snowy</td>\n",
              "      <td>City street</td>\n",
              "      <td>Heavy</td>\n",
              "    </tr>\n",
              "    <tr>\n",
              "      <th>4</th>\n",
              "      <td>Morning</td>\n",
              "      <td>Friday</td>\n",
              "      <td>Clear</td>\n",
              "      <td>Highway</td>\n",
              "      <td>Moderate</td>\n",
              "    </tr>\n",
              "  </tbody>\n",
              "</table>\n",
              "</div>\n",
              "      <button class=\"colab-df-convert\" onclick=\"convertToInteractive('df-b392f6ee-26ca-4206-a11e-d91950166cd2')\"\n",
              "              title=\"Convert this dataframe to an interactive table.\"\n",
              "              style=\"display:none;\">\n",
              "        \n",
              "  <svg xmlns=\"http://www.w3.org/2000/svg\" height=\"24px\"viewBox=\"0 0 24 24\"\n",
              "       width=\"24px\">\n",
              "    <path d=\"M0 0h24v24H0V0z\" fill=\"none\"/>\n",
              "    <path d=\"M18.56 5.44l.94 2.06.94-2.06 2.06-.94-2.06-.94-.94-2.06-.94 2.06-2.06.94zm-11 1L8.5 8.5l.94-2.06 2.06-.94-2.06-.94L8.5 2.5l-.94 2.06-2.06.94zm10 10l.94 2.06.94-2.06 2.06-.94-2.06-.94-.94-2.06-.94 2.06-2.06.94z\"/><path d=\"M17.41 7.96l-1.37-1.37c-.4-.4-.92-.59-1.43-.59-.52 0-1.04.2-1.43.59L10.3 9.45l-7.72 7.72c-.78.78-.78 2.05 0 2.83L4 21.41c.39.39.9.59 1.41.59.51 0 1.02-.2 1.41-.59l7.78-7.78 2.81-2.81c.8-.78.8-2.07 0-2.86zM5.41 20L4 18.59l7.72-7.72 1.47 1.35L5.41 20z\"/>\n",
              "  </svg>\n",
              "      </button>\n",
              "      \n",
              "  <style>\n",
              "    .colab-df-container {\n",
              "      display:flex;\n",
              "      flex-wrap:wrap;\n",
              "      gap: 12px;\n",
              "    }\n",
              "\n",
              "    .colab-df-convert {\n",
              "      background-color: #E8F0FE;\n",
              "      border: none;\n",
              "      border-radius: 50%;\n",
              "      cursor: pointer;\n",
              "      display: none;\n",
              "      fill: #1967D2;\n",
              "      height: 32px;\n",
              "      padding: 0 0 0 0;\n",
              "      width: 32px;\n",
              "    }\n",
              "\n",
              "    .colab-df-convert:hover {\n",
              "      background-color: #E2EBFA;\n",
              "      box-shadow: 0px 1px 2px rgba(60, 64, 67, 0.3), 0px 1px 3px 1px rgba(60, 64, 67, 0.15);\n",
              "      fill: #174EA6;\n",
              "    }\n",
              "\n",
              "    [theme=dark] .colab-df-convert {\n",
              "      background-color: #3B4455;\n",
              "      fill: #D2E3FC;\n",
              "    }\n",
              "\n",
              "    [theme=dark] .colab-df-convert:hover {\n",
              "      background-color: #434B5C;\n",
              "      box-shadow: 0px 1px 3px 1px rgba(0, 0, 0, 0.15);\n",
              "      filter: drop-shadow(0px 1px 2px rgba(0, 0, 0, 0.3));\n",
              "      fill: #FFFFFF;\n",
              "    }\n",
              "  </style>\n",
              "\n",
              "      <script>\n",
              "        const buttonEl =\n",
              "          document.querySelector('#df-b392f6ee-26ca-4206-a11e-d91950166cd2 button.colab-df-convert');\n",
              "        buttonEl.style.display =\n",
              "          google.colab.kernel.accessAllowed ? 'block' : 'none';\n",
              "\n",
              "        async function convertToInteractive(key) {\n",
              "          const element = document.querySelector('#df-b392f6ee-26ca-4206-a11e-d91950166cd2');\n",
              "          const dataTable =\n",
              "            await google.colab.kernel.invokeFunction('convertToInteractive',\n",
              "                                                     [key], {});\n",
              "          if (!dataTable) return;\n",
              "\n",
              "          const docLinkHtml = 'Like what you see? Visit the ' +\n",
              "            '<a target=\"_blank\" href=https://colab.research.google.com/notebooks/data_table.ipynb>data table notebook</a>'\n",
              "            + ' to learn more about interactive tables.';\n",
              "          element.innerHTML = '';\n",
              "          dataTable['output_type'] = 'display_data';\n",
              "          await google.colab.output.renderOutput(dataTable, element);\n",
              "          const docLink = document.createElement('div');\n",
              "          docLink.innerHTML = docLinkHtml;\n",
              "          element.appendChild(docLink);\n",
              "        }\n",
              "      </script>\n",
              "    </div>\n",
              "  </div>\n",
              "  "
            ]
          },
          "metadata": {},
          "execution_count": 4
        }
      ]
    },
    {
      "cell_type": "markdown",
      "source": [
        "Vom impărți setul de date în variabile independente și variabile dependente"
      ],
      "metadata": {
        "id": "f1WGd0aCeHsQ"
      }
    },
    {
      "cell_type": "code",
      "source": [
        "X = df[['time_of_day', 'day_of_week', 'weather', 'road_type']]\n",
        "y = df['traffic_flow']"
      ],
      "metadata": {
        "id": "wgRbTUEeyYsW"
      },
      "execution_count": null,
      "outputs": []
    },
    {
      "cell_type": "markdown",
      "source": [
        "Acum vom antrena și testa. Astfel, alocăm 80% din setul de date de mai sus pentru antrenare, iar restul de 20% pentru testare."
      ],
      "metadata": {
        "id": "zU-6TfVy4ZA9"
      }
    },
    {
      "cell_type": "code",
      "source": [
        "X_train, X_test, y_train, y_test = train_test_split(X, y, test_size=0.2, random_state=4)\n",
        "# train_test_split imparte setul de date în date de antrenare și date de testare\n",
        "# test_size reprezintă mărimea setului de date de testare\n",
        "# random_state setează aleatorietatea"
      ],
      "metadata": {
        "id": "CHo_dh1S4OU4"
      },
      "execution_count": null,
      "outputs": []
    },
    {
      "cell_type": "markdown",
      "source": [
        "Vom face encoding la setul de date (object -> int)"
      ],
      "metadata": {
        "id": "VF8Bfzgmk8SA"
      }
    },
    {
      "cell_type": "code",
      "source": [
        "from sklearn.preprocessing import LabelEncoder\n",
        "\n",
        "le = LabelEncoder()\n",
        "\n",
        "for col in df.columns:\n",
        "  if df[col].dtype == 'object':\n",
        "    le.fit(df[col])\n",
        "    df[col] = le.transform(df[col])\n",
        "df.info()\n",
        "df.head(10)"
      ],
      "metadata": {
        "colab": {
          "base_uri": "https://localhost:8080/",
          "height": 571
        },
        "id": "ScL3pEAbhwWm",
        "outputId": "dc370bed-8cd4-4ab6-beed-4322dad2f568"
      },
      "execution_count": null,
      "outputs": [
        {
          "output_type": "stream",
          "name": "stdout",
          "text": [
            "<class 'pandas.core.frame.DataFrame'>\n",
            "RangeIndex: 60 entries, 0 to 59\n",
            "Data columns (total 5 columns):\n",
            " #   Column        Non-Null Count  Dtype\n",
            "---  ------        --------------  -----\n",
            " 0   time_of_day   60 non-null     int64\n",
            " 1   day_of_week   60 non-null     int64\n",
            " 2   weather       60 non-null     int64\n",
            " 3   road_type     60 non-null     int64\n",
            " 4   traffic_flow  60 non-null     int64\n",
            "dtypes: int64(5)\n",
            "memory usage: 2.5 KB\n"
          ]
        },
        {
          "output_type": "execute_result",
          "data": {
            "text/plain": [
              "   time_of_day  day_of_week  weather  road_type  traffic_flow\n",
              "0            2            1        0          1             0\n",
              "1            0            5        1          0             2\n",
              "2            1            6        2          1             1\n",
              "3            3            4        3          0             0\n",
              "4            2            0        0          1             2\n",
              "5            0            2        1          0             1\n",
              "6            1            3        2          1             0\n",
              "7            2            1        0          0             2\n",
              "8            0            5        3          1             0\n",
              "9            1            6        2          0             1"
            ],
            "text/html": [
              "\n",
              "  <div id=\"df-9a4cd555-7a00-4a3b-b3a5-154e0453f6ac\">\n",
              "    <div class=\"colab-df-container\">\n",
              "      <div>\n",
              "<style scoped>\n",
              "    .dataframe tbody tr th:only-of-type {\n",
              "        vertical-align: middle;\n",
              "    }\n",
              "\n",
              "    .dataframe tbody tr th {\n",
              "        vertical-align: top;\n",
              "    }\n",
              "\n",
              "    .dataframe thead th {\n",
              "        text-align: right;\n",
              "    }\n",
              "</style>\n",
              "<table border=\"1\" class=\"dataframe\">\n",
              "  <thead>\n",
              "    <tr style=\"text-align: right;\">\n",
              "      <th></th>\n",
              "      <th>time_of_day</th>\n",
              "      <th>day_of_week</th>\n",
              "      <th>weather</th>\n",
              "      <th>road_type</th>\n",
              "      <th>traffic_flow</th>\n",
              "    </tr>\n",
              "  </thead>\n",
              "  <tbody>\n",
              "    <tr>\n",
              "      <th>0</th>\n",
              "      <td>2</td>\n",
              "      <td>1</td>\n",
              "      <td>0</td>\n",
              "      <td>1</td>\n",
              "      <td>0</td>\n",
              "    </tr>\n",
              "    <tr>\n",
              "      <th>1</th>\n",
              "      <td>0</td>\n",
              "      <td>5</td>\n",
              "      <td>1</td>\n",
              "      <td>0</td>\n",
              "      <td>2</td>\n",
              "    </tr>\n",
              "    <tr>\n",
              "      <th>2</th>\n",
              "      <td>1</td>\n",
              "      <td>6</td>\n",
              "      <td>2</td>\n",
              "      <td>1</td>\n",
              "      <td>1</td>\n",
              "    </tr>\n",
              "    <tr>\n",
              "      <th>3</th>\n",
              "      <td>3</td>\n",
              "      <td>4</td>\n",
              "      <td>3</td>\n",
              "      <td>0</td>\n",
              "      <td>0</td>\n",
              "    </tr>\n",
              "    <tr>\n",
              "      <th>4</th>\n",
              "      <td>2</td>\n",
              "      <td>0</td>\n",
              "      <td>0</td>\n",
              "      <td>1</td>\n",
              "      <td>2</td>\n",
              "    </tr>\n",
              "    <tr>\n",
              "      <th>5</th>\n",
              "      <td>0</td>\n",
              "      <td>2</td>\n",
              "      <td>1</td>\n",
              "      <td>0</td>\n",
              "      <td>1</td>\n",
              "    </tr>\n",
              "    <tr>\n",
              "      <th>6</th>\n",
              "      <td>1</td>\n",
              "      <td>3</td>\n",
              "      <td>2</td>\n",
              "      <td>1</td>\n",
              "      <td>0</td>\n",
              "    </tr>\n",
              "    <tr>\n",
              "      <th>7</th>\n",
              "      <td>2</td>\n",
              "      <td>1</td>\n",
              "      <td>0</td>\n",
              "      <td>0</td>\n",
              "      <td>2</td>\n",
              "    </tr>\n",
              "    <tr>\n",
              "      <th>8</th>\n",
              "      <td>0</td>\n",
              "      <td>5</td>\n",
              "      <td>3</td>\n",
              "      <td>1</td>\n",
              "      <td>0</td>\n",
              "    </tr>\n",
              "    <tr>\n",
              "      <th>9</th>\n",
              "      <td>1</td>\n",
              "      <td>6</td>\n",
              "      <td>2</td>\n",
              "      <td>0</td>\n",
              "      <td>1</td>\n",
              "    </tr>\n",
              "  </tbody>\n",
              "</table>\n",
              "</div>\n",
              "      <button class=\"colab-df-convert\" onclick=\"convertToInteractive('df-9a4cd555-7a00-4a3b-b3a5-154e0453f6ac')\"\n",
              "              title=\"Convert this dataframe to an interactive table.\"\n",
              "              style=\"display:none;\">\n",
              "        \n",
              "  <svg xmlns=\"http://www.w3.org/2000/svg\" height=\"24px\"viewBox=\"0 0 24 24\"\n",
              "       width=\"24px\">\n",
              "    <path d=\"M0 0h24v24H0V0z\" fill=\"none\"/>\n",
              "    <path d=\"M18.56 5.44l.94 2.06.94-2.06 2.06-.94-2.06-.94-.94-2.06-.94 2.06-2.06.94zm-11 1L8.5 8.5l.94-2.06 2.06-.94-2.06-.94L8.5 2.5l-.94 2.06-2.06.94zm10 10l.94 2.06.94-2.06 2.06-.94-2.06-.94-.94-2.06-.94 2.06-2.06.94z\"/><path d=\"M17.41 7.96l-1.37-1.37c-.4-.4-.92-.59-1.43-.59-.52 0-1.04.2-1.43.59L10.3 9.45l-7.72 7.72c-.78.78-.78 2.05 0 2.83L4 21.41c.39.39.9.59 1.41.59.51 0 1.02-.2 1.41-.59l7.78-7.78 2.81-2.81c.8-.78.8-2.07 0-2.86zM5.41 20L4 18.59l7.72-7.72 1.47 1.35L5.41 20z\"/>\n",
              "  </svg>\n",
              "      </button>\n",
              "      \n",
              "  <style>\n",
              "    .colab-df-container {\n",
              "      display:flex;\n",
              "      flex-wrap:wrap;\n",
              "      gap: 12px;\n",
              "    }\n",
              "\n",
              "    .colab-df-convert {\n",
              "      background-color: #E8F0FE;\n",
              "      border: none;\n",
              "      border-radius: 50%;\n",
              "      cursor: pointer;\n",
              "      display: none;\n",
              "      fill: #1967D2;\n",
              "      height: 32px;\n",
              "      padding: 0 0 0 0;\n",
              "      width: 32px;\n",
              "    }\n",
              "\n",
              "    .colab-df-convert:hover {\n",
              "      background-color: #E2EBFA;\n",
              "      box-shadow: 0px 1px 2px rgba(60, 64, 67, 0.3), 0px 1px 3px 1px rgba(60, 64, 67, 0.15);\n",
              "      fill: #174EA6;\n",
              "    }\n",
              "\n",
              "    [theme=dark] .colab-df-convert {\n",
              "      background-color: #3B4455;\n",
              "      fill: #D2E3FC;\n",
              "    }\n",
              "\n",
              "    [theme=dark] .colab-df-convert:hover {\n",
              "      background-color: #434B5C;\n",
              "      box-shadow: 0px 1px 3px 1px rgba(0, 0, 0, 0.15);\n",
              "      filter: drop-shadow(0px 1px 2px rgba(0, 0, 0, 0.3));\n",
              "      fill: #FFFFFF;\n",
              "    }\n",
              "  </style>\n",
              "\n",
              "      <script>\n",
              "        const buttonEl =\n",
              "          document.querySelector('#df-9a4cd555-7a00-4a3b-b3a5-154e0453f6ac button.colab-df-convert');\n",
              "        buttonEl.style.display =\n",
              "          google.colab.kernel.accessAllowed ? 'block' : 'none';\n",
              "\n",
              "        async function convertToInteractive(key) {\n",
              "          const element = document.querySelector('#df-9a4cd555-7a00-4a3b-b3a5-154e0453f6ac');\n",
              "          const dataTable =\n",
              "            await google.colab.kernel.invokeFunction('convertToInteractive',\n",
              "                                                     [key], {});\n",
              "          if (!dataTable) return;\n",
              "\n",
              "          const docLinkHtml = 'Like what you see? Visit the ' +\n",
              "            '<a target=\"_blank\" href=https://colab.research.google.com/notebooks/data_table.ipynb>data table notebook</a>'\n",
              "            + ' to learn more about interactive tables.';\n",
              "          element.innerHTML = '';\n",
              "          dataTable['output_type'] = 'display_data';\n",
              "          await google.colab.output.renderOutput(dataTable, element);\n",
              "          const docLink = document.createElement('div');\n",
              "          docLink.innerHTML = docLinkHtml;\n",
              "          element.appendChild(docLink);\n",
              "        }\n",
              "      </script>\n",
              "    </div>\n",
              "  </div>\n",
              "  "
            ]
          },
          "metadata": {},
          "execution_count": 19
        }
      ]
    },
    {
      "cell_type": "markdown",
      "source": [
        "Astfel, datele din dataset au fost convertite astfel:\n",
        "\n",
        "\n",
        "*   Morning = 2, afternoon = 0, evening = 1, night = 3\n",
        "*   monday = 1, tuesday = 5, wednesday = 6, thursday = 4, friday = 0, saturday = 2, sunday = 3\n",
        "*   clear = 0, partly cloduy = 1, rainy = 2, snowy = 3\n",
        "*   highway = 1, city street = 0\n",
        "*   heavy = 0, moderate = 2, light = 1\n",
        "\n",
        "\n",
        "\n"
      ],
      "metadata": {
        "id": "o5dLT1qXxe74"
      }
    },
    {
      "cell_type": "markdown",
      "source": [
        "Vom impărți setul de date în variabile independente și variabile dependente"
      ],
      "metadata": {
        "id": "QTRf2XelreOC"
      }
    },
    {
      "cell_type": "code",
      "source": [
        "X = df[['time_of_day', 'day_of_week', 'weather', 'road_type']]\n",
        "y = df['traffic_flow']"
      ],
      "metadata": {
        "id": "bDxlZyoMreOD"
      },
      "execution_count": null,
      "outputs": []
    },
    {
      "cell_type": "markdown",
      "source": [
        "Acum vom antrena și testa. Astfel, alocăm 80% din setul de date de mai sus pentru antrenare, iar restul de 20% pentru testare."
      ],
      "metadata": {
        "id": "ZvUQjt1breOD"
      }
    },
    {
      "cell_type": "code",
      "source": [
        "X_train, X_test, y_train, y_test = train_test_split(X, y, test_size=0.2, random_state=4)\n",
        "# train_test_split imparte setul de date în date de antrenare și date de testare\n",
        "# test_size reprezintă mărimea setului de date de testare\n",
        "# random_state setează aleatorietatea"
      ],
      "metadata": {
        "id": "efQtcqZ1reOD"
      },
      "execution_count": null,
      "outputs": []
    },
    {
      "cell_type": "markdown",
      "source": [
        "Acum vom aplica cei doi algoritmi pentru setul nostru de date (Funcția fit este folosită pentru finalizarea procesului de antrenare)"
      ],
      "metadata": {
        "id": "EYtTEpFFkbBI"
      }
    },
    {
      "cell_type": "code",
      "source": [
        "# regresia liniară\n",
        "modelLR = LinearRegression()\n",
        "modelLR.fit(X_train, y_train)\n",
        "y_predLR = modelLR.predict(X_test)\n",
        "print(y_predLR)\n",
        "predictions = modelLR.predict(X_test)\n",
        "\n",
        "# random forest\n",
        "clf = RandomForestClassifier(n_estimators = 100)\n",
        "clf.fit(X_train,y_train)\n",
        "y_predRF = clf.predict(X_test)\n",
        "print(y_predRF)\n",
        "\n",
        "# afisam acuratetea\n",
        "\n",
        "print(\"Accuracy LR:\", modelLR.score(X_test, y_test))\n",
        "print(\"Accuracy RF:\", metrics.accuracy_score(y_test, y_predRF))\n",
        "\n",
        "\n"
      ],
      "metadata": {
        "colab": {
          "base_uri": "https://localhost:8080/"
        },
        "id": "lncACcj7sxgF",
        "outputId": "a8124eae-dd90-4657-d2cd-89fc2e79c345"
      },
      "execution_count": null,
      "outputs": [
        {
          "output_type": "stream",
          "name": "stdout",
          "text": [
            "[ 1.61870845 -0.00931156 -0.02503439  0.57436568  0.54292003  1.63443128\n",
            "  1.38291253  0.72051033  0.5873176   1.93791502  1.87779462  1.83339704]\n",
            "[2 0 0 1 1 2 1 1 0 2 2 2]\n",
            "Accuracy LR: 0.8322546718013372\n",
            "Accuracy RF: 1.0\n"
          ]
        }
      ]
    },
    {
      "cell_type": "markdown",
      "source": [
        "Observăm că dacă aveam random state-ul setat pe 4, acuratețea folosind random forest este de 100% pentru un set de date cu 60 de linii, pe când la regresia liniară este de doar 83%."
      ],
      "metadata": {
        "id": "j9JSl_CavBr-"
      }
    },
    {
      "cell_type": "markdown",
      "source": [
        "Acum vom realiza o predictie pentru un nou input: Afternoon, Wednesday, Snowy, City street."
      ],
      "metadata": {
        "id": "PW_MUZXvvt7h"
      }
    },
    {
      "cell_type": "code",
      "source": [
        "import warnings\n",
        "\n",
        "try:\n",
        "    with warnings.catch_warnings():\n",
        "        warnings.filterwarnings(\"ignore\", category=UserWarning)\n",
        "        print(\"LR: \", modelLR.predict([[0, 6, 3, 0]]))\n",
        "        print(\"RF: \", clf.predict([[0, 6, 3, 0]]))\n",
        "except:\n",
        "    pass\n"
      ],
      "metadata": {
        "colab": {
          "base_uri": "https://localhost:8080/"
        },
        "id": "C4Clb03UwB50",
        "outputId": "a85a15fe-7271-40dc-9e3b-02f336265d66"
      },
      "execution_count": null,
      "outputs": [
        {
          "output_type": "stream",
          "name": "stdout",
          "text": [
            "LR:  [0.36729077]\n",
            "RF:  [0]\n"
          ]
        }
      ]
    },
    {
      "cell_type": "markdown",
      "source": [
        "Observăm că ambii algoritmi tind spre același rezultat (dacă rotunjim spre 0 primul rezultat)"
      ],
      "metadata": {
        "id": "j1yRPkX-0ulX"
      }
    },
    {
      "cell_type": "markdown",
      "source": [
        "Vom mai face un test pe un set de date nou: evening, sunday, clear, highway"
      ],
      "metadata": {
        "id": "_k8Sfjx52AAL"
      }
    },
    {
      "cell_type": "code",
      "source": [
        "import warnings\n",
        "\n",
        "try:\n",
        "    with warnings.catch_warnings():\n",
        "        warnings.filterwarnings(\"ignore\", category=UserWarning)\n",
        "        print(\"LR: \", modelLR.predict([[1, 3, 0, 1]]))\n",
        "        print(\"RF: \", clf.predict([[1, 3, 0, 1]]))\n",
        "except:\n",
        "    pass\n"
      ],
      "metadata": {
        "colab": {
          "base_uri": "https://localhost:8080/"
        },
        "outputId": "d2b8fee2-487a-423a-f319-f5ee435cdb5b",
        "id": "_AofklCR2FEg"
      },
      "execution_count": null,
      "outputs": [
        {
          "output_type": "stream",
          "name": "stdout",
          "text": [
            "LR:  [1.66784152]\n",
            "RF:  [2]\n"
          ]
        }
      ]
    },
    {
      "cell_type": "markdown",
      "source": [
        "Din nou, dacă e să rotunjim primul rezultat in sus, obținem acealși rezultat"
      ],
      "metadata": {
        "id": "Vqgiy0x_2Vhy"
      }
    },
    {
      "cell_type": "markdown",
      "source": [
        "Astfel, putem vedea că și dacă acuratețea celor doi algoritmi diferă 17%, acestea duc la același rezultat."
      ],
      "metadata": {
        "id": "93QCl22L2fuz"
      }
    }
  ]
}