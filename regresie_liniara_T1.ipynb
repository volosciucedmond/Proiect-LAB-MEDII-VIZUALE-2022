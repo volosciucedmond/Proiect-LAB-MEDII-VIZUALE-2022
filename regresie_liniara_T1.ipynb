{
  "nbformat": 4,
  "nbformat_minor": 0,
  "metadata": {
    "colab": {
      "provenance": [],
      "authorship_tag": "ABX9TyNfZCROfpb2xIrvrxefGiEK",
      "include_colab_link": true
    },
    "kernelspec": {
      "name": "python3",
      "display_name": "Python 3"
    },
    "language_info": {
      "name": "python"
    }
  },
  "cells": [
    {
      "cell_type": "markdown",
      "metadata": {
        "id": "view-in-github",
        "colab_type": "text"
      },
      "source": [
        "<a href=\"https://colab.research.google.com/github/volosciucedmond/Proiect-LAB-MEDII-VIZUALE-2022/blob/main/regresie_liniara_T1.ipynb\" target=\"_parent\"><img src=\"https://colab.research.google.com/assets/colab-badge.svg\" alt=\"Open In Colab\"/></a>"
      ]
    },
    {
      "cell_type": "code",
      "source": [
        "%%html\n",
        "<p style = \"font-size:300%; text-align:center; color:#336600\"> <b>Regresie liniară</b></p>"
      ],
      "metadata": {
        "colab": {
          "base_uri": "https://localhost:8080/",
          "height": 81
        },
        "id": "kjhhFTprSwqy",
        "outputId": "b527439b-b91b-48d6-c1ab-03dfbcebdcc5"
      },
      "execution_count": null,
      "outputs": [
        {
          "output_type": "display_data",
          "data": {
            "text/plain": [
              "<IPython.core.display.HTML object>"
            ],
            "text/html": [
              "<p style = \"font-size:300%; text-align:center; color:#336600\"> <b>Regresie liniară</b></p>\n"
            ]
          },
          "metadata": {}
        }
      ]
    },
    {
      "cell_type": "markdown",
      "source": [
        "# Ce este regresia liniară?\n",
        "---\n",
        "**Regresia liniară** este un fel de analiză statistică care încearcă să arate o relație între două variabile: una independentă (de exemplu X) și alta dependentă (de exemplu Y). Aceasta privește mai multe puncte de date, după care trasează o linie de trend. Poate fi folosită în prezicerea pe date aleatorii care prezintă tendințe în date, cum ar fi în diagnosticarea cancerului sau în prețul acțiunilor."
      ],
      "metadata": {
        "id": "6vada5zJTaaO"
      }
    },
    {
      "cell_type": "markdown",
      "source": [
        "\n",
        "# Problemă\n",
        "---\n",
        "Predicția cheltuielilor unei comapnii de închiriat mașini (în euro) care deține 13 mașini. Se consideră că fiecare companie deține mașini noi, și de caracteristici asemănătoare. <br>\n",
        "**Obiectiv**: construirea unei regresii liniare simple pentru a corelaționa numărul de mașini cu cheltuielile.\n",
        "\n",
        "---\n",
        "Vom importa librăriile de care avem nevoie în rezolvarea problemei noastre:<br>\n",
        "\n",
        "\n",
        "* **numpy** - folosită pentru lucrul cu matrici   \n",
        "* **pandas** - folosită pentru a colecta datele intr-o structură de date, ușurând utilizarea lor de către regresia liniară\n",
        "*   **sklearn.model_selection** - pentru etapa de antrenare și testare importăm **train_test_split**, iar pentru construirea modelului regresiei liniare importăm **LogisticRegression**\n",
        "\n",
        "\n"
      ],
      "metadata": {
        "id": "Cnn_ne35U5GH"
      }
    },
    {
      "cell_type": "code",
      "source": [
        "import numpy as np\n",
        "import pandas as pd\n",
        "from sklearn.model_selection import train_test_split\n",
        "from sklearn.linear_model import LinearRegression"
      ],
      "metadata": {
        "id": "C88i36N_Y7eV"
      },
      "execution_count": null,
      "outputs": []
    },
    {
      "cell_type": "markdown",
      "source": [
        "Vom trece datele pe care le deținem despre numărul de vehicule și costuri, intr-o structură de date (DataFrame), folosindu-ne de **pandas**, după care le afișăm."
      ],
      "metadata": {
        "id": "DCPROXk5ZH6B"
      }
    },
    {
      "cell_type": "code",
      "source": [
        "salary_data = {\n",
        "    'number_of_vehicules': [3, 4, 5, 6, 7, 8, 9, 10, 11, 12, 14, 15, 16, 17, 18, 19, 20, 21, 22, 23, 24, 25, 26, 27, 28, 29, 30],\n",
        "    'costs': [1000.00, 1342.32, 1594.34, 1723.87, 1675.98, 1764.54, 1774.25, 1845.44, 1888.04, 1955.14, 1994.44, 2047.69, 2213.16, 2314.74, 2478.95, 2624.74, 2594.65, 2623.53, 2698.98, 2873.23, 2937.32, 3021.23, 3123.54, 3245.76, 3423.23, 3413.42, 3756.48]\n",
        "}\n",
        "\n",
        "df = pd.DataFrame(salary_data, columns = ['number_of_vehicules', 'costs'])\n",
        "print(df)"
      ],
      "metadata": {
        "colab": {
          "base_uri": "https://localhost:8080/"
        },
        "id": "1VKyg1EoZW1R",
        "outputId": "181b6490-2654-4869-db5e-eda308ce77f2"
      },
      "execution_count": null,
      "outputs": [
        {
          "output_type": "stream",
          "name": "stdout",
          "text": [
            "    number_of_vehicules    costs\n",
            "0                     3  1000.00\n",
            "1                     4  1342.32\n",
            "2                     5  1594.34\n",
            "3                     6  1723.87\n",
            "4                     7  1675.98\n",
            "5                     8  1764.54\n",
            "6                     9  1774.25\n",
            "7                    10  1845.44\n",
            "8                    11  1888.04\n",
            "9                    12  1955.14\n",
            "10                   14  1994.44\n",
            "11                   15  2047.69\n",
            "12                   16  2213.16\n",
            "13                   17  2314.74\n",
            "14                   18  2478.95\n",
            "15                   19  2624.74\n",
            "16                   20  2594.65\n",
            "17                   21  2623.53\n",
            "18                   22  2698.98\n",
            "19                   23  2873.23\n",
            "20                   24  2937.32\n",
            "21                   25  3021.23\n",
            "22                   26  3123.54\n",
            "23                   27  3245.76\n",
            "24                   28  3423.23\n",
            "25                   29  3413.42\n",
            "26                   30  3756.48\n"
          ]
        }
      ]
    },
    {
      "cell_type": "markdown",
      "source": [
        "Acum vom genera graficul reprezentat de setul de date pe care îl deținem folosind librăria mathplotlib."
      ],
      "metadata": {
        "id": "TIbsCiREcmuF"
      }
    },
    {
      "cell_type": "code",
      "source": [
        "import matplotlib.pyplot as plt\n",
        "x = df[['number_of_vehicules']]\n",
        "y = df[['costs']]\n",
        "plt.scatter(x,y)\n",
        "plt.ylabel(\"Costs\")\n",
        "plt.xlabel(\"Number of vehicules\")"
      ],
      "metadata": {
        "colab": {
          "base_uri": "https://localhost:8080/",
          "height": 296
        },
        "id": "_WFNBuLScuE0",
        "outputId": "218310cc-d0a6-4aea-a7fa-49ec73f42661"
      },
      "execution_count": null,
      "outputs": [
        {
          "output_type": "execute_result",
          "data": {
            "text/plain": [
              "Text(0.5, 0, 'Number of vehicules')"
            ]
          },
          "metadata": {},
          "execution_count": 3
        },
        {
          "output_type": "display_data",
          "data": {
            "text/plain": [
              "<Figure size 432x288 with 1 Axes>"
            ],
            "image/png": "[encoded data removed]"
          },
          "metadata": {
            "needs_background": "light"
          }
        }
      ]
    },
    {
      "cell_type": "markdown",
      "source": [
        "Acum vom antrena și testa. Astfel, alocăm 80% din setul de date de mai sus pentru antrenare, iar restul de 20% pentru testare."
      ],
      "metadata": {
        "id": "EF213V15dOPY"
      }
    },
    {
      "cell_type": "code",
      "source": [
        "x_train, x_test, y_train, y_test=train_test_split(x, y, test_size=0.2, random_state=0)"
      ],
      "metadata": {
        "id": "vg6bRDdLddNp"
      },
      "execution_count": null,
      "outputs": []
    },
    {
      "cell_type": "markdown",
      "source": [
        "Vom afișa datele care au fost alese aleator pentru antrenare."
      ],
      "metadata": {
        "id": "GayRANSndfSa"
      }
    },
    {
      "cell_type": "code",
      "source": [
        "print(x_train)"
      ],
      "metadata": {
        "colab": {
          "base_uri": "https://localhost:8080/"
        },
        "id": "l56S9l4Bdx6H",
        "outputId": "5fa2ff5b-ec6d-43c1-acfb-162f96848a3f"
      },
      "execution_count": null,
      "outputs": [
        {
          "output_type": "stream",
          "name": "stdout",
          "text": [
            "    number_of_vehicules\n",
            "23                   27\n",
            "13                   17\n",
            "19                   23\n",
            "20                   24\n",
            "16                   20\n",
            "1                     4\n",
            "10                   14\n",
            "26                   30\n",
            "25                   29\n",
            "8                    11\n",
            "6                     9\n",
            "4                     7\n",
            "18                   22\n",
            "9                    12\n",
            "7                    10\n",
            "22                   26\n",
            "3                     6\n",
            "0                     3\n",
            "21                   25\n",
            "15                   19\n",
            "12                   16\n"
          ]
        }
      ]
    },
    {
      "cell_type": "markdown",
      "source": [
        "Vom afișa datele care au fost alese aleator pentru testare."
      ],
      "metadata": {
        "id": "qRHlMWuHd23e"
      }
    },
    {
      "cell_type": "code",
      "source": [
        "print(x_test)"
      ],
      "metadata": {
        "colab": {
          "base_uri": "https://localhost:8080/"
        },
        "id": "fPs_axvnd75H",
        "outputId": "cc4f08cd-4a61-40ff-a0ee-c3ab5eb3b06f"
      },
      "execution_count": null,
      "outputs": [
        {
          "output_type": "stream",
          "name": "stdout",
          "text": [
            "    number_of_vehicules\n",
            "2                     5\n",
            "24                   28\n",
            "14                   18\n",
            "17                   21\n",
            "5                     8\n",
            "11                   15\n"
          ]
        }
      ]
    },
    {
      "cell_type": "markdown",
      "source": [
        "Se aplică regresia liniară pe setul de date antrenate. Funcția **fit** va fi folosită pentru finalizarea procesului de antrenare, iar separarea datelor de antrenare de cele pentru testare se va realiza cu ajutorul lui **train_test_split**."
      ],
      "metadata": {
        "id": "bWi-lGxyd_FD"
      }
    },
    {
      "cell_type": "code",
      "source": [
        "regressor=LinearRegression()\n",
        "regressor.fit(x_train,y_train)"
      ],
      "metadata": {
        "colab": {
          "base_uri": "https://localhost:8080/"
        },
        "id": "OA_SF4W_eRyb",
        "outputId": "de680d5f-165e-4901-bd35-a8cfa94e4dd9"
      },
      "execution_count": null,
      "outputs": [
        {
          "output_type": "execute_result",
          "data": {
            "text/plain": [
              "LinearRegression()"
            ]
          },
          "metadata": {},
          "execution_count": 7
        }
      ]
    },
    {
      "cell_type": "markdown",
      "source": [
        "Vom apela funcția **predict**:"
      ],
      "metadata": {
        "id": "LGOcrNJjegxI"
      }
    },
    {
      "cell_type": "code",
      "source": [
        "y_pred=regressor.predict(x_test)\n",
        "print(y_pred)"
      ],
      "metadata": {
        "colab": {
          "base_uri": "https://localhost:8080/"
        },
        "id": "F8dN68IZemtb",
        "outputId": "ff825eda-5dd7-4b08-87f9-c76e35b155fc"
      },
      "execution_count": null,
      "outputs": [
        {
          "output_type": "stream",
          "name": "stdout",
          "text": [
            "[[1381.0428222 ]\n",
            " [3322.17176548]\n",
            " [2478.20265971]\n",
            " [2731.39339144]\n",
            " [1634.23355394]\n",
            " [2225.01192798]]\n"
          ]
        }
      ]
    },
    {
      "cell_type": "markdown",
      "source": [
        "Acum vom vedea care ar fi costul unei companii care deține 13 mașini."
      ],
      "metadata": {
        "id": "DibkGgmVeuxk"
      }
    },
    {
      "cell_type": "code",
      "source": [
        "print(regressor.predict([[13]]))"
      ],
      "metadata": {
        "colab": {
          "base_uri": "https://localhost:8080/"
        },
        "id": "LAoY9aJ5e4Xh",
        "outputId": "f10f52b0-5578-4c9d-a5c5-d944bdbce359"
      },
      "execution_count": null,
      "outputs": [
        {
          "output_type": "stream",
          "name": "stdout",
          "text": [
            "[[2056.21810682]]\n"
          ]
        },
        {
          "output_type": "stream",
          "name": "stderr",
          "text": [
            "/usr/local/lib/python3.7/dist-packages/sklearn/base.py:451: UserWarning: X does not have valid feature names, but LinearRegression was fitted with feature names\n",
            "  \"X does not have valid feature names, but\"\n"
          ]
        }
      ]
    },
    {
      "cell_type": "markdown",
      "source": [
        "Așadar, o comapnie care deține 13 mașini ar putea avea un cost de 2056.21 euro."
      ],
      "metadata": {
        "id": "n6Qd4Zsde-kD"
      }
    },
    {
      "cell_type": "markdown",
      "source": [
        "Acum vom încerca pentru un număr de 31 de mașini."
      ],
      "metadata": {
        "id": "6zaFgAu0RARp"
      }
    },
    {
      "cell_type": "code",
      "source": [
        "print(regressor.predict([[31]]))"
      ],
      "metadata": {
        "colab": {
          "base_uri": "https://localhost:8080/"
        },
        "id": "f18GyoAMQ4vC",
        "outputId": "d08121fc-c413-4ad3-dfc8-97df3e706e7e"
      },
      "execution_count": null,
      "outputs": [
        {
          "output_type": "stream",
          "name": "stdout",
          "text": [
            "[[3575.36249721]]\n"
          ]
        },
        {
          "output_type": "stream",
          "name": "stderr",
          "text": [
            "/usr/local/lib/python3.7/dist-packages/sklearn/base.py:451: UserWarning: X does not have valid feature names, but LinearRegression was fitted with feature names\n",
            "  \"X does not have valid feature names, but\"\n"
          ]
        }
      ]
    },
    {
      "cell_type": "markdown",
      "source": [
        "Observăm că pentru o companie care deține 31 de mașini costul ar putea fi de 3575.36, adica cu aproximativ 200 mai mic față de o companie cu 30 de mașini. Așadar se poate observa că modelul nostru nu este antrenat pe un număr destul de mare de date astfel încât să poată face o prezicere pentru un număr mai mare de mașini."
      ],
      "metadata": {
        "id": "tdKR1dqMRbVp"
      }
    }
  ]
}