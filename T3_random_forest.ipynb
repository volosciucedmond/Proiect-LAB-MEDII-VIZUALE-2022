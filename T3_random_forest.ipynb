{
  "nbformat": 4,
  "nbformat_minor": 0,
  "metadata": {
    "colab": {
      "provenance": [],
      "include_colab_link": true
    },
    "kernelspec": {
      "display_name": "Python 3",
      "name": "python3"
    },
    "language_info": {
      "name": "python"
    }
  },
  "cells": [
    {
      "cell_type": "markdown",
      "metadata": {
        "id": "view-in-github",
        "colab_type": "text"
      },
      "source": [
        "<a href=\"https://colab.research.google.com/github/volosciucedmond/Proiect-LAB-MEDII-VIZUALE-2022/blob/main/T3_random_forest.ipynb\" target=\"_parent\"><img src=\"https://colab.research.google.com/assets/colab-badge.svg\" alt=\"Open In Colab\"/></a>"
      ]
    },
    {
      "cell_type": "code",
      "source": [
        "%%html\n",
        "<p style=\"font-size:290%; color:#90ee90; text-align:center\"><b>Random Forest Classifier</b></p>"
      ],
      "metadata": {
        "colab": {
          "base_uri": "https://localhost:8080/",
          "height": 79
        },
        "id": "wHz11mAVsDA-",
        "outputId": "aabcee24-55fe-4e1b-98a6-79dd2a78ba10"
      },
      "execution_count": null,
      "outputs": [
        {
          "output_type": "display_data",
          "data": {
            "text/plain": [
              "<IPython.core.display.HTML object>"
            ],
            "text/html": [
              "<p style=\"font-size:290%; color:#90ee90; text-align:center\"><b>Random Forest Classifier</b></p>\n"
            ]
          },
          "metadata": {}
        }
      ]
    },
    {
      "cell_type": "markdown",
      "metadata": {
        "id": "9c7ZckPkxC9D"
      },
      "source": [
        "Algoritmul Random Forest  (Pădurea Aleatorie) reprezintă o metodă de clasificare bazată pe ansambluri ce operează cu noțiunea de arbore de decizie. Este considerat ca fiind una din cele mai bune metode de clasificare „clasice”.\n",
        "Ideea din spatele pădurilor aleatorii este să construim mai mulți arbori de decizie și să-i agregăm pentru a obține un rezultat precis.\n"
      ]
    },
    {
      "cell_type": "markdown",
      "metadata": {
        "id": "ZFdX5HZrxOjT"
      },
      "source": [
        "Pentru ca un avion cargo să poată decola în siguranță, greutatea coletelor transportate trebuie să fie distribuită corect (să nu fie o diferență sesizabilă între cele 3 greutăți). Astfel, vom folosi algoritmul Random Forest pentru a vedea dacă două avioane vor putea sau nu decola în siguranță. Se neglijează greutatea combustibilului."
      ]
    },
    {
      "cell_type": "markdown",
      "metadata": {
        "id": "sRdWqCYZzQ7V"
      },
      "source": [
        "Datele cunoscute: dacă programul returnează 1, atunci avionul poate decola în siguranță, iar 0 va fi returnat în caz contrar."
      ]
    },
    {
      "cell_type": "markdown",
      "metadata": {
        "id": "ZjtZT6ja3bg1"
      },
      "source": [
        "2. Vom importa librăriile necesare pentru crearea aplicației.\n",
        "\n",
        "*   Pandas, utilizată pentru adunarea datelor într-o structură de date\n",
        "*   sklearn pentru antrenarea, utilizarea și verificarea algoritmului\n",
        "*   metrics pentur verificarea acurateții\n",
        "*   librăria RandomForestClassifier pentru a creea un model de Random Forest"
      ]
    },
    {
      "cell_type": "code",
      "metadata": {
        "id": "5nv_MRwv4CNs"
      },
      "source": [
        "import pandas as pd\n",
        "import seaborn as sns\n",
        "from sklearn.model_selection import train_test_split\n",
        "from sklearn.ensemble import RandomForestClassifier\n",
        "from sklearn import metrics\n",
        "from sklearn import preprocessing\n",
        "\n"
      ],
      "execution_count": null,
      "outputs": []
    },
    {
      "cell_type": "markdown",
      "metadata": {
        "id": "2G4V_1_C6lw0"
      },
      "source": [
        "3. În această etapă vom aduna datele într-o structură de tip DataFrame, cu ajutorul librăriei pandas. WeightF reprezintă greutatea în partea din față a avionului, WeightM reprezintă greutatea în partea din mijloc a avionului, iar WeightB cea din spatele avionului. Vom considera 0 ca indicator pentru decolare nesigură, iar 1 pentru decolare sigură.\n"
      ]
    },
    {
      "cell_type": "code",
      "metadata": {
        "colab": {
          "base_uri": "https://localhost:8080/"
        },
        "id": "CpXTJ14f7Tw4",
        "outputId": "9f84a230-0376-4c57-8699-66d042e45d57"
      },
      "source": [
        "heights = {'WeightF': [1750, 1670, 1690, 1580, 1780, 1707, 1090, 1802, 1080, 1085, 1706, 1703, 1072, 1707, 1609, 1700, 1760, 1690, 1608, 1609, 1680, 1808, 1870, 1807, 1804, 1830, 1810, 1750, 1740, 1706, 1069, 1709, 1702, 1703],\n",
        "           'WeightM': [1760, 1680, 1980, 1880, 1860, 1700, 1980, 1740, 1707, 1609, 1806, 1750, 1204, 1883, 1704, 1800, 1890, 1605, 1670, 1609, 1508, 1708, 1707, 1900, 1082, 1800, 1805, 1706, 1073, 1702, 1607, 1690, 1700, 1760],\n",
        "           'WeightB': [1770, 1700, 1820, 1840, 1810, 1720, 2000, 1789, 1760, 1730, 1810, 1770, 1079, 1810, 1707, 1750, 1880, 1680, 1680, 1720, 1605, 1830, 1808, 1910, 1805, 1820, 1820, 1760, 1703, 1705, 1608, 1707, 1704, 1780],\n",
        "       'WillTakeOff': [1, 1, 0, 0, 1, 1, 0, 1, 0, 0, 1, 1, 1, 1, 1, 1, 1, 1, 1, 0, 1, 0, 1, 1, 0, 1, 1, 1, 0, 1, 0, 1, 1, 1]}\n",
        "df = pd.DataFrame(heights, columns = ['WeightF','WeightM','WeightB', \"WillTakeOff\"])\n",
        "print(df)"
      ],
      "execution_count": null,
      "outputs": [
        {
          "output_type": "stream",
          "name": "stdout",
          "text": [
            "    WeightF  WeightM  WeightB  WillTakeOff\n",
            "0      1750     1760     1770            1\n",
            "1      1670     1680     1700            1\n",
            "2      1690     1980     1820            0\n",
            "3      1580     1880     1840            0\n",
            "4      1780     1860     1810            1\n",
            "5      1707     1700     1720            1\n",
            "6      1090     1980     2000            0\n",
            "7      1802     1740     1789            1\n",
            "8      1080     1707     1760            0\n",
            "9      1085     1609     1730            0\n",
            "10     1706     1806     1810            1\n",
            "11     1703     1750     1770            1\n",
            "12     1072     1204     1079            1\n",
            "13     1707     1883     1810            1\n",
            "14     1609     1704     1707            1\n",
            "15     1700     1800     1750            1\n",
            "16     1760     1890     1880            1\n",
            "17     1690     1605     1680            1\n",
            "18     1608     1670     1680            1\n",
            "19     1609     1609     1720            0\n",
            "20     1680     1508     1605            1\n",
            "21     1808     1708     1830            0\n",
            "22     1870     1707     1808            1\n",
            "23     1807     1900     1910            1\n",
            "24     1804     1082     1805            0\n",
            "25     1830     1800     1820            1\n",
            "26     1810     1805     1820            1\n",
            "27     1750     1706     1760            1\n",
            "28     1740     1073     1703            0\n",
            "29     1706     1702     1705            1\n",
            "30     1069     1607     1608            0\n",
            "31     1709     1690     1707            1\n",
            "32     1702     1700     1704            1\n",
            "33     1703     1760     1780            1\n"
          ]
        }
      ]
    },
    {
      "cell_type": "code",
      "metadata": {
        "id": "3dqixyiTh0el"
      },
      "source": [
        "X = df[['WeightF', 'WeightM', 'WeightB']]\n",
        "Y = df['WillTakeOff']"
      ],
      "execution_count": null,
      "outputs": []
    },
    {
      "cell_type": "markdown",
      "metadata": {
        "id": "-rAVCH7aFEU8"
      },
      "source": [
        "4.În această etapă împărțim structura de date în variabile independente (reprezentate de variabila X) și variabile dependente (reprezentate de variabila Y)."
      ]
    },
    {
      "cell_type": "markdown",
      "metadata": {
        "id": "KVtAmY9dF1fF"
      },
      "source": [
        "5. Urmează partea de antrenare și testare. Vom folosi 70% pentru antrenare, iar 30% pentru testare.\n",
        "Urmărind ceea ce am obținut cu funcția train_test_split, observăm că înregistrările cu numărul: 11, 20, 25, 17, 2, 26, 31, 15, 10, 33 și 30 sunt rezervate pentru testare.\n"
      ]
    },
    {
      "cell_type": "code",
      "metadata": {
        "colab": {
          "base_uri": "https://localhost:8080/"
        },
        "id": "fCFSvXoeGK2U",
        "outputId": "222c3941-1039-4c89-d6eb-13d6f8fe0dbc"
      },
      "source": [
        "X_train, X_test, y_train, y_test = train_test_split(X,Y, test_size=0.3, random_state=0)\n",
        "print(X_test)\n",
        "print(y_test)"
      ],
      "execution_count": null,
      "outputs": [
        {
          "output_type": "stream",
          "name": "stdout",
          "text": [
            "    WeightF  WeightM  WeightB\n",
            "11     1703     1750     1770\n",
            "20     1680     1508     1605\n",
            "25     1830     1800     1820\n",
            "17     1690     1605     1680\n",
            "2      1690     1980     1820\n",
            "26     1810     1805     1820\n",
            "31     1709     1690     1707\n",
            "16     1760     1890     1880\n",
            "10     1706     1806     1810\n",
            "33     1703     1760     1780\n",
            "30     1069     1607     1608\n",
            "11    1\n",
            "20    1\n",
            "25    1\n",
            "17    1\n",
            "2     0\n",
            "26    1\n",
            "31    1\n",
            "16    1\n",
            "10    1\n",
            "33    1\n",
            "30    0\n",
            "Name: WillTakeOff, dtype: int64\n"
          ]
        }
      ]
    },
    {
      "cell_type": "markdown",
      "metadata": {
        "id": "JtCD4dsSHIf7"
      },
      "source": [
        "Vom aplica Algoritmul Random Forest folosind RandomForestClassifier, o clasă a bibliotecii sklearn.ensemble."
      ]
    },
    {
      "cell_type": "code",
      "metadata": {
        "colab": {
          "base_uri": "https://localhost:8080/"
        },
        "id": "WkVND3JcRx1j",
        "outputId": "69ac365a-b825-4232-8d34-9158008a1328"
      },
      "source": [
        "from sklearn.ensemble import RandomForestClassifier\n",
        "clf=RandomForestClassifier(n_estimators=100)\n",
        "clf.fit(X_train,y_train)\n",
        "y_pred=clf.predict(X_test)\n",
        "print(y_pred)"
      ],
      "execution_count": null,
      "outputs": [
        {
          "output_type": "stream",
          "name": "stdout",
          "text": [
            "[1 1 1 1 1 1 1 1 1 1 0]\n"
          ]
        }
      ]
    },
    {
      "cell_type": "markdown",
      "metadata": {
        "id": "dN1d-YosSQBR"
      },
      "source": [
        "După partea de antrenare, putem verifica acuratețea:"
      ]
    },
    {
      "cell_type": "code",
      "metadata": {
        "colab": {
          "base_uri": "https://localhost:8080/"
        },
        "id": "VmFHkYzNSF8C",
        "outputId": "da2e6ff6-5267-47f0-d229-9b46e4770483"
      },
      "source": [
        "print(\"Accuracy:\",metrics.accuracy_score(y_test, y_pred))"
      ],
      "execution_count": null,
      "outputs": [
        {
          "output_type": "stream",
          "name": "stdout",
          "text": [
            "Accuracy: 0.9090909090909091\n"
          ]
        }
      ]
    },
    {
      "cell_type": "markdown",
      "metadata": {
        "id": "NTLHSB1DQ7uj"
      },
      "source": [
        "Vom face predicție pentru un aviona care are următoarea distribuție a greutații:\n",
        "*   WeightF = 1889\n",
        "*   WeightM = 1089\n",
        "*   WeightB = 1032\n"
      ]
    },
    {
      "cell_type": "code",
      "metadata": {
        "colab": {
          "base_uri": "https://localhost:8080/"
        },
        "id": "Z15i-zKUuvWN",
        "outputId": "4cec1396-8b7b-4b07-97cc-17277c308f21"
      },
      "source": [
        "clf.predict([[1889, 1089, 1032]])"
      ],
      "execution_count": null,
      "outputs": [
        {
          "output_type": "stream",
          "name": "stderr",
          "text": [
            "/usr/local/lib/python3.8/dist-packages/sklearn/base.py:450: UserWarning: X does not have valid feature names, but RandomForestClassifier was fitted with feature names\n",
            "  warnings.warn(\n"
          ]
        },
        {
          "output_type": "execute_result",
          "data": {
            "text/plain": [
              "array([0])"
            ]
          },
          "metadata": {},
          "execution_count": 61
        }
      ]
    },
    {
      "cell_type": "markdown",
      "metadata": {
        "id": "26w1tKKoRXTZ"
      },
      "source": [
        "Astfel observăm că un avion care are o greutate a coletelor mult mai mare în partea din față nu va putea decola."
      ]
    },
    {
      "cell_type": "markdown",
      "source": [
        "Acum vom face predicție pentru un aviona care are următoarea distribuție a greutații:\n",
        "*   WeightF = 1877\n",
        "*   WeightM = 1908\n",
        "*   WeightB = 1932\n"
      ],
      "metadata": {
        "id": "CzXLwwzrxhvx"
      }
    },
    {
      "cell_type": "code",
      "source": [
        "clf.predict([[1877, 1908, 1932]])"
      ],
      "metadata": {
        "colab": {
          "base_uri": "https://localhost:8080/"
        },
        "id": "Qqyh0KxLxrSH",
        "outputId": "64ed9c31-a40a-4432-d316-94d64a3f7a86"
      },
      "execution_count": null,
      "outputs": [
        {
          "output_type": "stream",
          "name": "stderr",
          "text": [
            "/usr/local/lib/python3.8/dist-packages/sklearn/base.py:450: UserWarning: X does not have valid feature names, but RandomForestClassifier was fitted with feature names\n",
            "  warnings.warn(\n"
          ]
        },
        {
          "output_type": "execute_result",
          "data": {
            "text/plain": [
              "array([1])"
            ]
          },
          "metadata": {},
          "execution_count": 63
        }
      ]
    },
    {
      "cell_type": "markdown",
      "source": [
        "Putem acum observa că distribuția fiind corect facută, avionul o să poată decola în condiții de siguranță."
      ],
      "metadata": {
        "id": "mHICIkguxwzD"
      }
    }
  ]
}